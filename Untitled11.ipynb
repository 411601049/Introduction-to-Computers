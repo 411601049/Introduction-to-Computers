{
  "nbformat": 4,
  "nbformat_minor": 0,
  "metadata": {
    "colab": {
      "provenance": [],
      "authorship_tag": "ABX9TyOH3PaboBX/3LDoq4C7Wi75",
      "include_colab_link": true
    },
    "kernelspec": {
      "name": "python3",
      "display_name": "Python 3"
    },
    "language_info": {
      "name": "python"
    }
  },
  "cells": [
    {
      "cell_type": "markdown",
      "metadata": {
        "id": "view-in-github",
        "colab_type": "text"
      },
      "source": [
        "<a href=\"https://colab.research.google.com/github/411601049/Introduction-to-Computers/blob/main/Untitled11.ipynb\" target=\"_parent\"><img src=\"https://colab.research.google.com/assets/colab-badge.svg\" alt=\"Open In Colab\"/></a>"
      ]
    },
    {
      "cell_type": "code",
      "source": [
        "rain = str(input(\"今天會下雨嗎?: \"))\n",
        "if rain == \"Y\":\n",
        "  print(\"出門記得帶傘!\")\n",
        "elif rain == \"y\":\n",
        "  print(\"出門記得帶傘!\")\n",
        "else:\n",
        "  print(\"不用帶傘\")"
      ],
      "metadata": {
        "colab": {
          "base_uri": "https://localhost:8080/"
        },
        "id": "_bqbzKSlaLwR",
        "outputId": "46d97385-97cb-4c06-a9d7-cb7fa269ce5c"
      },
      "execution_count": 16,
      "outputs": [
        {
          "output_type": "stream",
          "name": "stdout",
          "text": [
            "今天會下雨嗎?: Y\n",
            "出門記得帶傘!\n"
          ]
        }
      ]
    },
    {
      "cell_type": "code",
      "execution_count": 2,
      "metadata": {
        "colab": {
          "base_uri": "https://localhost:8080/"
        },
        "id": "SuEIwDPRTVa-",
        "outputId": "4b39cf8f-a345-467e-d49b-d4deefcfda43"
      },
      "outputs": [
        {
          "output_type": "stream",
          "name": "stdout",
          "text": [
            "score: 80\n",
            "Grade is: B\n"
          ]
        }
      ],
      "source": [
        "score = int(input(\"score: \"))\n",
        "if score >= 90:\n",
        "    print('Grade is: A')\n",
        "elif score >= 80:\n",
        "    print('Grade is: B')\n",
        "elif score >= 70:\n",
        "    print('Grade is: C')\n",
        "elif score >= 60:\n",
        "    print('Grade is: D')\n",
        "else:\n",
        "    print('Grade is: E')"
      ]
    },
    {
      "cell_type": "code",
      "source": [
        "體溫 = int(input(\"體溫: \"))\n",
        "if 體溫 >= 37.5:\n",
        "  print('體溫過高!')\n",
        "elif 體溫 >= 37:\n",
        "  print('體溫略高!')\n",
        "elif 體溫 >= 34:\n",
        "  print('體溫正常!')\n",
        "elif 體溫 <= 34:\n",
        "  print('體溫異常，請重新量測!')"
      ],
      "metadata": {
        "colab": {
          "base_uri": "https://localhost:8080/"
        },
        "id": "qDB-epJqVCQB",
        "outputId": "f6ba6e16-92c8-4638-c51f-77fdb9c9f8e8"
      },
      "execution_count": 5,
      "outputs": [
        {
          "output_type": "stream",
          "name": "stdout",
          "text": [
            "體溫: 35\n",
            "體溫正常!\n"
          ]
        }
      ]
    },
    {
      "cell_type": "code",
      "source": [
        "月份 = int(input(\"月份: \"))\n",
        "if 月份 == 3 or 月份 == 4 or 月份 == 5:\n",
        "  print('春天!')\n",
        "elif 月份 == 6 or 月份 == 7 or 月份 == 8:\n",
        "  print('夏天!')\n",
        "elif 月份 == 9 or 月份 == 10 or 月份 == 11:\n",
        "  print('秋天!')\n",
        "elif 月份 == 12 or 月份 == 1 or 月份 == 2:\n",
        "  print('冬天!')\n",
        "else:\n",
        "  print('月份不再範圍內')"
      ],
      "metadata": {
        "colab": {
          "base_uri": "https://localhost:8080/"
        },
        "id": "czg2CQTiWgtb",
        "outputId": "e55901ca-283e-4f55-dc92-5c25fed66366"
      },
      "execution_count": 15,
      "outputs": [
        {
          "output_type": "stream",
          "name": "stdout",
          "text": [
            "月份: 13\n",
            "月份不再範圍內\n"
          ]
        }
      ]
    },
    {
      "cell_type": "code",
      "source": [
        "今年收入淨額 = int(input(\"今年收入淨額: \"))\n",
        "if 今年收入淨額 >= 2000000:\n",
        "  print('稅率為0.3')\n",
        "elif 今年收入淨額 >= 1000000:\n",
        "  print('稅率為0.21')\n",
        "elif 今年收入淨額 >= 600000:\n",
        "  print('稅率為0.13')\n",
        "elif 今年收入淨額 >= 300000:\n",
        "  print('稅率為0.06')\n",
        "elif 今年收入淨額 <= 300000:\n",
        "  print('稅率為0')"
      ],
      "metadata": {
        "colab": {
          "base_uri": "https://localhost:8080/"
        },
        "id": "RhK1icadYD8B",
        "outputId": "674f86c7-ea24-42ad-f4af-3cd610359be2"
      },
      "execution_count": 13,
      "outputs": [
        {
          "output_type": "stream",
          "name": "stdout",
          "text": [
            "今年收入淨額: 100000\n",
            "稅率為0\n"
          ]
        }
      ]
    }
  ]
}