{
  "nbformat": 4,
  "nbformat_minor": 0,
  "metadata": {
    "colab": {
      "provenance": [],
      "authorship_tag": "ABX9TyPPI9/GTXfmpIF2nrqnLlRX",
      "include_colab_link": true
    },
    "kernelspec": {
      "name": "python3",
      "display_name": "Python 3"
    },
    "language_info": {
      "name": "python"
    }
  },
  "cells": [
    {
      "cell_type": "markdown",
      "metadata": {
        "id": "view-in-github",
        "colab_type": "text"
      },
      "source": [
        "<a href=\"https://colab.research.google.com/github/411601049/Introduction-to-Computers/blob/main/%E6%9C%83%E8%A8%88%E4%B8%80B_411601049_%E8%94%A1%E4%BE%9D%E5%BA%AD.ipynb\" target=\"_parent\"><img src=\"https://colab.research.google.com/assets/colab-badge.svg\" alt=\"Open In Colab\"/></a>"
      ]
    },
    {
      "cell_type": "code",
      "execution_count": 1,
      "metadata": {
        "colab": {
          "base_uri": "https://localhost:8080/"
        },
        "id": "U2eCqJIwUBPz",
        "outputId": "8ad21fbc-ef92-4a46-8c20-076e40872435"
      },
      "outputs": [
        {
          "output_type": "stream",
          "name": "stdout",
          "text": [
            "淡江大學\n"
          ]
        }
      ],
      "source": [
        "print(\"淡江大學\")"
      ]
    },
    {
      "cell_type": "code",
      "source": [
        "tmp=0\n",
        "for i in range(1,6):\n",
        "  tmp +=i\n",
        "  print('%d'%tmp)"
      ],
      "metadata": {
        "colab": {
          "base_uri": "https://localhost:8080/"
        },
        "id": "GQq3L5SFUH-l",
        "outputId": "48480e8a-a82b-4ca9-8791-7d94ee632056"
      },
      "execution_count": 5,
      "outputs": [
        {
          "output_type": "stream",
          "name": "stdout",
          "text": [
            "1\n",
            "3\n",
            "6\n",
            "10\n",
            "15\n"
          ]
        }
      ]
    },
    {
      "cell_type": "code",
      "source": [
        "print(\"請輸入華氏C\")\n",
        "f=float(input())\n",
        "C = (f- 32) * 5/9    \n",
        "\n",
        "print(\"攝氏 = \"'%.1f'%C)"
      ],
      "metadata": {
        "colab": {
          "base_uri": "https://localhost:8080/"
        },
        "id": "jLciBuCfanfG",
        "outputId": "c7f17b58-19eb-4424-ddf3-88f6e5d7c957"
      },
      "execution_count": 17,
      "outputs": [
        {
          "output_type": "stream",
          "name": "stdout",
          "text": [
            "請輸入華氏C\n",
            "100\n",
            "攝氏 = 37.8\n"
          ]
        }
      ]
    },
    {
      "cell_type": "code",
      "source": [
        "Principal_sum = 10000 * (1 + 0.02) ** 6\n",
        "print(\"本金和為：\")\n",
        "print(Principal_sum)"
      ],
      "metadata": {
        "colab": {
          "base_uri": "https://localhost:8080/"
        },
        "id": "Js0T22m7bYYe",
        "outputId": "2fbe1b77-a1c6-4240-ccdb-024e8d790c92"
      },
      "execution_count": 19,
      "outputs": [
        {
          "output_type": "stream",
          "name": "stdout",
          "text": [
            "本金和為：\n",
            "11261.62419264\n"
          ]
        }
      ]
    }
  ]
}